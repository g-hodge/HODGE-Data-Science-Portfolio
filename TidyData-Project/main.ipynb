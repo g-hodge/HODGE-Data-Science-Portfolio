{
 "cells": [
  {
   "cell_type": "markdown",
   "metadata": {},
   "source": [
    "# Tidy Data Project - Federal R&D Budgets\n",
    "#### Adapted from: https://github.com/rfordatascience/tidytuesday/tree/main/data/2019/2019-02-12\n",
    "#### Process Sources: https://pandas.pydata.org/Pandas_Cheat_Sheet.pdf, https://vita.had.co.nz/papers/tidy-data.pdf, https://pandas.pydata.org/docs/reference/api/pandas.Series.str.replace.html#pandas.Series.str.replace & https://docs.python.org/3/library/stdtypes.html#str.replace\n",
    "#### *Additional notes: Please refer to \"README.md\" housed under the \"TidyData-Project\" file for additional information on interpretation and refer to \"data_clean\" file to download the cleaned data. Additional information on how to access the Streamlit app is also included in the same \"README.md.\"*"
   ]
  },
  {
   "cell_type": "markdown",
   "metadata": {},
   "source": [
    "## 0: Setting up workstation"
   ]
  },
  {
   "cell_type": "code",
   "execution_count": 27,
   "metadata": {},
   "outputs": [],
   "source": [
    "# importing necessary packages\n",
    "import pandas as pd                                     # for data manipulation\n",
    "import seaborn as sns                                   # for plotting\n",
    "import matplotlib.pyplot as plt                         # for plotting\n",
    "\n",
    "# selecting dataset\n",
    "df_budget = pd.read_csv(\"data/fed_rd_year&gdp.csv\")     # reading csv file - using relative path\n",
    "df_budget_clean = df_budget.copy()\n",
    "\n",
    "# formatting display\n",
    "pd.options.display.float_format = '{:f}'.format         # making display for dataframes not default to scientific notation"
   ]
  },
  {
   "cell_type": "markdown",
   "metadata": {},
   "source": [
    "## 1: Data cleaning & tidying"
   ]
  },
  {
   "cell_type": "markdown",
   "metadata": {},
   "source": [
    "### 1.1: Basic exploration of data"
   ]
  },
  {
   "cell_type": "markdown",
   "metadata": {},
   "source": [
    "**Input**\n",
    "\n",
    "\n",
    "In 1.1, I will be confirming (a) the number of observations by printing the list of departments (which is the level of analysis) and (b) print the total number of columns to start to understand what variables the values in the columns correspond to. I will use the function len, which finds the total numbers of items in an object."
   ]
  },
  {
   "cell_type": "code",
   "execution_count": 28,
   "metadata": {},
   "outputs": [
    {
     "name": "stdout",
     "output_type": "stream",
     "text": [
      "\n",
      "There are 14 observations in the dataset.\n",
      "\n"
     ]
    },
    {
     "data": {
      "text/plain": [
       "0          DHS\n",
       "1          DOC\n",
       "2          DOD\n",
       "3          DOE\n",
       "4          DOT\n",
       "5          EPA\n",
       "6          HHS\n",
       "7     Interior\n",
       "8         NASA\n",
       "9          NIH\n",
       "10         NSF\n",
       "11       Other\n",
       "12        USDA\n",
       "13          VA\n",
       "Name: department, dtype: object"
      ]
     },
     "execution_count": 28,
     "metadata": {},
     "output_type": "execute_result"
    }
   ],
   "source": [
    "print(f\"\\nThere are {len(df_budget_clean.department)} observations in the dataset.\\n\")    # counting number of observations\n",
    "df_budget.department                                                                      # confirming observation level of analysis is departments"
   ]
  },
  {
   "cell_type": "code",
   "execution_count": 29,
   "metadata": {},
   "outputs": [
    {
     "name": "stdout",
     "output_type": "stream",
     "text": [
      "\n",
      "There are 43 columns in the dataset.\n"
     ]
    },
    {
     "data": {
      "text/plain": [
       "Index(['department', '1976_gdp1790000000000.0', '1977_gdp2028000000000.0',\n",
       "       '1978_gdp2278000000000.0', '1979_gdp2570000000000.0',\n",
       "       '1980_gdp2797000000000.0', '1981_gdp3138000000000.0',\n",
       "       '1982_gdp3314000000000.0', '1983_gdp3541000000000.0',\n",
       "       '1984_gdp3953000000000.0', '1985_gdp4270000000000.0',\n",
       "       '1986_gdp4536000000000.0', '1987_gdp4782000000000.0',\n",
       "       '1988_gdp5155000000000.0', '1989_gdp5570000000000.0',\n",
       "       '1990_gdp5915000000000.0', '1991_gdp6110000000000.0',\n",
       "       '1992_gdp6435000000000.0', '1993_gdp6795000000000.0',\n",
       "       '1994_gdp7198000000000.0', '1995_gdp7583000000000.0',\n",
       "       '1996_gdp7978000000000.0', '1997_gdp8483000000000.0',\n",
       "       '1998_gdp8955000000000.0', '1999_gdp9511000000000.0',\n",
       "       '2000_gdp10148000000000.0', '2001_gdp10565000000000.0',\n",
       "       '2002_gdp10877000000000.0', '2003_gdp11332000000000.0',\n",
       "       '2004_gdp12089000000000.0', '2005_gdp12889000000000.0',\n",
       "       '2006_gdp13685000000000.0', '2007_gdp14323000000000.0',\n",
       "       '2008_gdp14752000000000.0', '2009_gdp14415000000000.0',\n",
       "       '2010_gdp14799000000000.0', '2011_gdp15379000000000.0',\n",
       "       '2012_gdp16027000000000.0', '2013_gdp16516000000000.0',\n",
       "       '2014_gdp17244000000000.0', '2015_gdp17983000000000.0',\n",
       "       '2016_gdp18470000000000.0', '2017_gdp19177000000000.0'],\n",
       "      dtype='object')"
      ]
     },
     "execution_count": 29,
     "metadata": {},
     "output_type": "execute_result"
    }
   ],
   "source": [
    "print(f\"\\nThere are {len(df_budget.columns)} columns in the dataset.\")       # confirming number of columns\n",
    "df_budget.columns                                                            # confirming column names"
   ]
  },
  {
   "cell_type": "markdown",
   "metadata": {},
   "source": [
    "**Output**\n",
    "\n",
    "I will receive (a) a list of all observations (i.e., rows in the first column) and (b) a list of all of the columns. I will also receive (a)(b) a count for each, which are 14 and 43, respectively."
   ]
  },
  {
   "cell_type": "markdown",
   "metadata": {},
   "source": [
    "### 1.2: Melting data"
   ]
  },
  {
   "cell_type": "markdown",
   "metadata": {},
   "source": [
    "**Input**\n",
    "\n",
    "In 1.2, I will be melting the dataset. Melting is necessary as the data is in \"wide\" as opposed to \"long\" form. Given that it is in \"long\" form, multiple observations are in one row. Furthermore, the variable names should be values within columns. According to the Tiday Data principles, each observation forms a row and each variable forms a column. Neither of those two are true.\n",
    "\n",
    "By using pd.melt, I can transform the dataframe so that there is a row for each observations. In this new database, the column \"department\" will be the level of analysis, which is shown by placing it with \"id_vars\". The two new columns will be \"Year_GDP\" and \"budget\". \"Year_GDP\", which is associated with \"value_vars\", will take on the old variables as its values. The other new column, \"Budget\", will contain the values listed under the old variables as it is the entry for \"value_name\"."
   ]
  },
  {
   "cell_type": "code",
   "execution_count": 30,
   "metadata": {},
   "outputs": [
    {
     "name": "stdout",
     "output_type": "stream",
     "text": [
      "1      1976_gdp1790000000000.0\n",
      "2      1977_gdp2028000000000.0\n",
      "3      1978_gdp2278000000000.0\n",
      "4      1979_gdp2570000000000.0\n",
      "5      1980_gdp2797000000000.0\n",
      "6      1981_gdp3138000000000.0\n",
      "7      1982_gdp3314000000000.0\n",
      "8      1983_gdp3541000000000.0\n",
      "9      1984_gdp3953000000000.0\n",
      "10     1985_gdp4270000000000.0\n",
      "11     1986_gdp4536000000000.0\n",
      "12     1987_gdp4782000000000.0\n",
      "13     1988_gdp5155000000000.0\n",
      "14     1989_gdp5570000000000.0\n",
      "15     1990_gdp5915000000000.0\n",
      "16     1991_gdp6110000000000.0\n",
      "17     1992_gdp6435000000000.0\n",
      "18     1993_gdp6795000000000.0\n",
      "19     1994_gdp7198000000000.0\n",
      "20     1995_gdp7583000000000.0\n",
      "21     1996_gdp7978000000000.0\n",
      "22     1997_gdp8483000000000.0\n",
      "23     1998_gdp8955000000000.0\n",
      "24     1999_gdp9511000000000.0\n",
      "25    2000_gdp10148000000000.0\n",
      "26    2001_gdp10565000000000.0\n",
      "27    2002_gdp10877000000000.0\n",
      "28    2003_gdp11332000000000.0\n",
      "29    2004_gdp12089000000000.0\n",
      "30    2005_gdp12889000000000.0\n",
      "31    2006_gdp13685000000000.0\n",
      "32    2007_gdp14323000000000.0\n",
      "33    2008_gdp14752000000000.0\n",
      "34    2009_gdp14415000000000.0\n",
      "35    2010_gdp14799000000000.0\n",
      "36    2011_gdp15379000000000.0\n",
      "37    2012_gdp16027000000000.0\n",
      "38    2013_gdp16516000000000.0\n",
      "39    2014_gdp17244000000000.0\n",
      "40    2015_gdp17983000000000.0\n",
      "41    2016_gdp18470000000000.0\n",
      "42    2017_gdp19177000000000.0\n",
      "dtype: object\n"
     ]
    }
   ],
   "source": [
    "# preparing for melting\n",
    "budget_column_names = pd.Series(df_budget.columns)       # turning column names into series for easier input into melt (value_vars)\n",
    "budget_column_names_1 = budget_column_names.drop([0])    # dropping \"department\" from series (it will be id_vars)\n",
    "print(budget_column_names_1)                             # confirming \"department\" was dropped\n",
    "\n",
    "budget_column_names_2 = budget_column_names_1.tolist()   # converting to list for entry into melt"
   ]
  },
  {
   "cell_type": "code",
   "execution_count": 31,
   "metadata": {},
   "outputs": [
    {
     "data": {
      "text/html": [
       "<div>\n",
       "<style scoped>\n",
       "    .dataframe tbody tr th:only-of-type {\n",
       "        vertical-align: middle;\n",
       "    }\n",
       "\n",
       "    .dataframe tbody tr th {\n",
       "        vertical-align: top;\n",
       "    }\n",
       "\n",
       "    .dataframe thead th {\n",
       "        text-align: right;\n",
       "    }\n",
       "</style>\n",
       "<table border=\"1\" class=\"dataframe\">\n",
       "  <thead>\n",
       "    <tr style=\"text-align: right;\">\n",
       "      <th></th>\n",
       "      <th>department</th>\n",
       "      <th>Year_GDP</th>\n",
       "      <th>Budget</th>\n",
       "    </tr>\n",
       "  </thead>\n",
       "  <tbody>\n",
       "    <tr>\n",
       "      <th>0</th>\n",
       "      <td>DHS</td>\n",
       "      <td>1976_gdp1790000000000.0</td>\n",
       "      <td>NaN</td>\n",
       "    </tr>\n",
       "    <tr>\n",
       "      <th>1</th>\n",
       "      <td>DOC</td>\n",
       "      <td>1976_gdp1790000000000.0</td>\n",
       "      <td>819000000.000000</td>\n",
       "    </tr>\n",
       "    <tr>\n",
       "      <th>2</th>\n",
       "      <td>DOD</td>\n",
       "      <td>1976_gdp1790000000000.0</td>\n",
       "      <td>35696000000.000000</td>\n",
       "    </tr>\n",
       "    <tr>\n",
       "      <th>3</th>\n",
       "      <td>DOE</td>\n",
       "      <td>1976_gdp1790000000000.0</td>\n",
       "      <td>10882000000.000000</td>\n",
       "    </tr>\n",
       "    <tr>\n",
       "      <th>4</th>\n",
       "      <td>DOT</td>\n",
       "      <td>1976_gdp1790000000000.0</td>\n",
       "      <td>1142000000.000000</td>\n",
       "    </tr>\n",
       "    <tr>\n",
       "      <th>5</th>\n",
       "      <td>EPA</td>\n",
       "      <td>1976_gdp1790000000000.0</td>\n",
       "      <td>968000000.000000</td>\n",
       "    </tr>\n",
       "    <tr>\n",
       "      <th>6</th>\n",
       "      <td>HHS</td>\n",
       "      <td>1976_gdp1790000000000.0</td>\n",
       "      <td>9226000000.000000</td>\n",
       "    </tr>\n",
       "    <tr>\n",
       "      <th>7</th>\n",
       "      <td>Interior</td>\n",
       "      <td>1976_gdp1790000000000.0</td>\n",
       "      <td>1152000000.000000</td>\n",
       "    </tr>\n",
       "    <tr>\n",
       "      <th>8</th>\n",
       "      <td>NASA</td>\n",
       "      <td>1976_gdp1790000000000.0</td>\n",
       "      <td>12513000000.000000</td>\n",
       "    </tr>\n",
       "    <tr>\n",
       "      <th>9</th>\n",
       "      <td>NIH</td>\n",
       "      <td>1976_gdp1790000000000.0</td>\n",
       "      <td>8025000000.000000</td>\n",
       "    </tr>\n",
       "    <tr>\n",
       "      <th>10</th>\n",
       "      <td>NSF</td>\n",
       "      <td>1976_gdp1790000000000.0</td>\n",
       "      <td>2372000000.000000</td>\n",
       "    </tr>\n",
       "    <tr>\n",
       "      <th>11</th>\n",
       "      <td>Other</td>\n",
       "      <td>1976_gdp1790000000000.0</td>\n",
       "      <td>1191000000.000000</td>\n",
       "    </tr>\n",
       "    <tr>\n",
       "      <th>12</th>\n",
       "      <td>USDA</td>\n",
       "      <td>1976_gdp1790000000000.0</td>\n",
       "      <td>1837000000.000000</td>\n",
       "    </tr>\n",
       "    <tr>\n",
       "      <th>13</th>\n",
       "      <td>VA</td>\n",
       "      <td>1976_gdp1790000000000.0</td>\n",
       "      <td>404000000.000000</td>\n",
       "    </tr>\n",
       "    <tr>\n",
       "      <th>14</th>\n",
       "      <td>DHS</td>\n",
       "      <td>1977_gdp2028000000000.0</td>\n",
       "      <td>NaN</td>\n",
       "    </tr>\n",
       "  </tbody>\n",
       "</table>\n",
       "</div>"
      ],
      "text/plain": [
       "   department                 Year_GDP             Budget\n",
       "0         DHS  1976_gdp1790000000000.0                NaN\n",
       "1         DOC  1976_gdp1790000000000.0   819000000.000000\n",
       "2         DOD  1976_gdp1790000000000.0 35696000000.000000\n",
       "3         DOE  1976_gdp1790000000000.0 10882000000.000000\n",
       "4         DOT  1976_gdp1790000000000.0  1142000000.000000\n",
       "5         EPA  1976_gdp1790000000000.0   968000000.000000\n",
       "6         HHS  1976_gdp1790000000000.0  9226000000.000000\n",
       "7    Interior  1976_gdp1790000000000.0  1152000000.000000\n",
       "8        NASA  1976_gdp1790000000000.0 12513000000.000000\n",
       "9         NIH  1976_gdp1790000000000.0  8025000000.000000\n",
       "10        NSF  1976_gdp1790000000000.0  2372000000.000000\n",
       "11      Other  1976_gdp1790000000000.0  1191000000.000000\n",
       "12       USDA  1976_gdp1790000000000.0  1837000000.000000\n",
       "13         VA  1976_gdp1790000000000.0   404000000.000000\n",
       "14        DHS  1977_gdp2028000000000.0                NaN"
      ]
     },
     "execution_count": 31,
     "metadata": {},
     "output_type": "execute_result"
    }
   ],
   "source": [
    "# melting dataset\n",
    "df_budget_clean_1 = pd.melt(df_budget,          # melting df_budget_1\n",
    "        id_vars = \"department\",                 # using \"department\" as level of analysis\n",
    "        value_vars = budget_column_names,       # identifying the column names (w/ out \"department\") as value_vars\n",
    "        var_name= \"Year_GDP\",                   # naming 1st new column \"Year_GDP\" (will change in df_budget_3 when split)\n",
    "        value_name = \"Budget\")                  # naming 2nd new column \"Budget\"\n",
    "\n",
    "df_budget_clean_1.head(15)                      # confirming melt by looking at first 25 observations"
   ]
  },
  {
   "cell_type": "markdown",
   "metadata": {},
   "source": [
    "**Output**\n",
    "\n",
    "I will receive a new table with 3 columns, each representing a variable.\n",
    "\n",
    "The variable for the first column is \"department\", which contains the names of the level of analysis. However, instead of being only include once, there are multiple observations for the same department as for every year, there are different values associated with the departments. \n",
    "\n",
    "There will also be a \"Year_GDP\" variable, which includes both the year and the US' GDP in said year. However, this column contains values for what should be two different variables according to Tidy Data principles, which will be addressed in 1.3.\n",
    "\n",
    "The final column is the variable \"Budget\", which contains the department's budget in the year the observation is covering."
   ]
  },
  {
   "cell_type": "markdown",
   "metadata": {},
   "source": [
    "### 1.3: Further cleaning and tidying of data"
   ]
  },
  {
   "cell_type": "markdown",
   "metadata": {},
   "source": [
    "**Input**\n",
    "\n",
    "In 1.3, I will (a) be splitting the variable containing both year and GDP, (b) dropping strings from the new columns formed from the split, and (c) adjusting data types and variable names. I will do (a) and (b) by using \"str.split\" and \"str.replace\" from the Python Standard Library.\n",
    "\n",
    "In (a), I will be splitting the variable \"Year_GDP\" into two variables (one will be \"Year\" and the other \"GDP\") using \"str.split\" as its current format violates the Tidy Data principle of each variable having its own column. There is an underscore (_) between the year and GDP, which will be used as my splitting point. Two new columns will be made as I will enter \"expand = True\", which breaks the two new strings into their own columns.\n",
    "\n",
    "In (b), I will be dropping the string \"gdp\" in the new column \"GDP\". I will do this by using \"str.replace\". Using this command, I will replace \"gdp\" with nothing (as seen by using \"\"). By doing so, I am placing the dataset in line with the Tidy Data principle that columns must only contain one value.\n",
    "\n",
    "In (c), I will be adjusting \"GDP\" to  float and \"Year\" to datetime using pd.to_datetime, specificying that I would like it to be as a year by placong \".dt.year\" at the end of the line of code. They are currently strings, which limit their ability to be analyzed. I will also be cleaning up variable names by changing \"department\" to \"Department\" so that they fall in line with the rest of the variables stylistically."
   ]
  },
  {
   "cell_type": "code",
   "execution_count": 32,
   "metadata": {},
   "outputs": [
    {
     "data": {
      "text/html": [
       "<div>\n",
       "<style scoped>\n",
       "    .dataframe tbody tr th:only-of-type {\n",
       "        vertical-align: middle;\n",
       "    }\n",
       "\n",
       "    .dataframe tbody tr th {\n",
       "        vertical-align: top;\n",
       "    }\n",
       "\n",
       "    .dataframe thead th {\n",
       "        text-align: right;\n",
       "    }\n",
       "</style>\n",
       "<table border=\"1\" class=\"dataframe\">\n",
       "  <thead>\n",
       "    <tr style=\"text-align: right;\">\n",
       "      <th></th>\n",
       "      <th>department</th>\n",
       "      <th>Budget</th>\n",
       "      <th>Year</th>\n",
       "      <th>GDP</th>\n",
       "    </tr>\n",
       "  </thead>\n",
       "  <tbody>\n",
       "    <tr>\n",
       "      <th>0</th>\n",
       "      <td>DHS</td>\n",
       "      <td>NaN</td>\n",
       "      <td>1976</td>\n",
       "      <td>1790000000000.0</td>\n",
       "    </tr>\n",
       "    <tr>\n",
       "      <th>1</th>\n",
       "      <td>DOC</td>\n",
       "      <td>819000000.000000</td>\n",
       "      <td>1976</td>\n",
       "      <td>1790000000000.0</td>\n",
       "    </tr>\n",
       "    <tr>\n",
       "      <th>2</th>\n",
       "      <td>DOD</td>\n",
       "      <td>35696000000.000000</td>\n",
       "      <td>1976</td>\n",
       "      <td>1790000000000.0</td>\n",
       "    </tr>\n",
       "    <tr>\n",
       "      <th>3</th>\n",
       "      <td>DOE</td>\n",
       "      <td>10882000000.000000</td>\n",
       "      <td>1976</td>\n",
       "      <td>1790000000000.0</td>\n",
       "    </tr>\n",
       "    <tr>\n",
       "      <th>4</th>\n",
       "      <td>DOT</td>\n",
       "      <td>1142000000.000000</td>\n",
       "      <td>1976</td>\n",
       "      <td>1790000000000.0</td>\n",
       "    </tr>\n",
       "    <tr>\n",
       "      <th>...</th>\n",
       "      <td>...</td>\n",
       "      <td>...</td>\n",
       "      <td>...</td>\n",
       "      <td>...</td>\n",
       "    </tr>\n",
       "    <tr>\n",
       "      <th>583</th>\n",
       "      <td>NIH</td>\n",
       "      <td>33052000000.000000</td>\n",
       "      <td>2017</td>\n",
       "      <td>19177000000000.0</td>\n",
       "    </tr>\n",
       "    <tr>\n",
       "      <th>584</th>\n",
       "      <td>NSF</td>\n",
       "      <td>6040000000.000000</td>\n",
       "      <td>2017</td>\n",
       "      <td>19177000000000.0</td>\n",
       "    </tr>\n",
       "    <tr>\n",
       "      <th>585</th>\n",
       "      <td>Other</td>\n",
       "      <td>1553000000.000000</td>\n",
       "      <td>2017</td>\n",
       "      <td>19177000000000.0</td>\n",
       "    </tr>\n",
       "    <tr>\n",
       "      <th>586</th>\n",
       "      <td>USDA</td>\n",
       "      <td>2625000000.000000</td>\n",
       "      <td>2017</td>\n",
       "      <td>19177000000000.0</td>\n",
       "    </tr>\n",
       "    <tr>\n",
       "      <th>587</th>\n",
       "      <td>VA</td>\n",
       "      <td>1367000000.000000</td>\n",
       "      <td>2017</td>\n",
       "      <td>19177000000000.0</td>\n",
       "    </tr>\n",
       "  </tbody>\n",
       "</table>\n",
       "<p>588 rows × 4 columns</p>\n",
       "</div>"
      ],
      "text/plain": [
       "    department             Budget  Year               GDP\n",
       "0          DHS                NaN  1976   1790000000000.0\n",
       "1          DOC   819000000.000000  1976   1790000000000.0\n",
       "2          DOD 35696000000.000000  1976   1790000000000.0\n",
       "3          DOE 10882000000.000000  1976   1790000000000.0\n",
       "4          DOT  1142000000.000000  1976   1790000000000.0\n",
       "..         ...                ...   ...               ...\n",
       "583        NIH 33052000000.000000  2017  19177000000000.0\n",
       "584        NSF  6040000000.000000  2017  19177000000000.0\n",
       "585      Other  1553000000.000000  2017  19177000000000.0\n",
       "586       USDA  2625000000.000000  2017  19177000000000.0\n",
       "587         VA  1367000000.000000  2017  19177000000000.0\n",
       "\n",
       "[588 rows x 4 columns]"
      ]
     },
     "execution_count": 32,
     "metadata": {},
     "output_type": "execute_result"
    }
   ],
   "source": [
    "# splitting and dropping \"Year_GDP\"\n",
    "df_budget_clean_2 = df_budget_clean_1.copy()                                                     # creating a new dataframe, which is a copy of the second\n",
    "df_budget_clean_2[[\"Year\",\"GDP\"]] = df_budget_clean_2[\"Year_GDP\"].str.split(\"_\", expand = True)  # splitting \"Year_GDP\", where the divide is at \"_\" and the result of the split are captured in two new columns\n",
    "df_budget_clean_2[\"GDP\"] = df_budget_clean_2[\"GDP\"].str.replace(\"gdp\", \"\")                       # dropping the string \"gdp\" from variable \"GDP\"\n",
    "\n",
    "\n",
    "df_budget_clean_3 = df_budget_clean_2.drop(columns = \"Year_GDP\")                                 # dropping \"Year_GDP\" given the two new columns\n",
    "\n",
    "\n",
    "df_budget_clean_3"
   ]
  },
  {
   "cell_type": "code",
   "execution_count": 33,
   "metadata": {},
   "outputs": [
    {
     "name": "stdout",
     "output_type": "stream",
     "text": [
      "department     object\n",
      "Budget        float64\n",
      "Year           object\n",
      "GDP            object\n",
      "dtype: object\n",
      "Department     object\n",
      "Budget        float64\n",
      "Year            int32\n",
      "GDP           float64\n",
      "dtype: object\n"
     ]
    },
    {
     "data": {
      "text/html": [
       "<div>\n",
       "<style scoped>\n",
       "    .dataframe tbody tr th:only-of-type {\n",
       "        vertical-align: middle;\n",
       "    }\n",
       "\n",
       "    .dataframe tbody tr th {\n",
       "        vertical-align: top;\n",
       "    }\n",
       "\n",
       "    .dataframe thead th {\n",
       "        text-align: right;\n",
       "    }\n",
       "</style>\n",
       "<table border=\"1\" class=\"dataframe\">\n",
       "  <thead>\n",
       "    <tr style=\"text-align: right;\">\n",
       "      <th></th>\n",
       "      <th>Department</th>\n",
       "      <th>Budget</th>\n",
       "      <th>Year</th>\n",
       "      <th>GDP</th>\n",
       "    </tr>\n",
       "  </thead>\n",
       "  <tbody>\n",
       "    <tr>\n",
       "      <th>0</th>\n",
       "      <td>DHS</td>\n",
       "      <td>NaN</td>\n",
       "      <td>1976</td>\n",
       "      <td>1790000000000.000000</td>\n",
       "    </tr>\n",
       "    <tr>\n",
       "      <th>1</th>\n",
       "      <td>DOC</td>\n",
       "      <td>819000000.000000</td>\n",
       "      <td>1976</td>\n",
       "      <td>1790000000000.000000</td>\n",
       "    </tr>\n",
       "    <tr>\n",
       "      <th>2</th>\n",
       "      <td>DOD</td>\n",
       "      <td>35696000000.000000</td>\n",
       "      <td>1976</td>\n",
       "      <td>1790000000000.000000</td>\n",
       "    </tr>\n",
       "    <tr>\n",
       "      <th>3</th>\n",
       "      <td>DOE</td>\n",
       "      <td>10882000000.000000</td>\n",
       "      <td>1976</td>\n",
       "      <td>1790000000000.000000</td>\n",
       "    </tr>\n",
       "    <tr>\n",
       "      <th>4</th>\n",
       "      <td>DOT</td>\n",
       "      <td>1142000000.000000</td>\n",
       "      <td>1976</td>\n",
       "      <td>1790000000000.000000</td>\n",
       "    </tr>\n",
       "    <tr>\n",
       "      <th>...</th>\n",
       "      <td>...</td>\n",
       "      <td>...</td>\n",
       "      <td>...</td>\n",
       "      <td>...</td>\n",
       "    </tr>\n",
       "    <tr>\n",
       "      <th>583</th>\n",
       "      <td>NIH</td>\n",
       "      <td>33052000000.000000</td>\n",
       "      <td>2017</td>\n",
       "      <td>19177000000000.000000</td>\n",
       "    </tr>\n",
       "    <tr>\n",
       "      <th>584</th>\n",
       "      <td>NSF</td>\n",
       "      <td>6040000000.000000</td>\n",
       "      <td>2017</td>\n",
       "      <td>19177000000000.000000</td>\n",
       "    </tr>\n",
       "    <tr>\n",
       "      <th>585</th>\n",
       "      <td>Other</td>\n",
       "      <td>1553000000.000000</td>\n",
       "      <td>2017</td>\n",
       "      <td>19177000000000.000000</td>\n",
       "    </tr>\n",
       "    <tr>\n",
       "      <th>586</th>\n",
       "      <td>USDA</td>\n",
       "      <td>2625000000.000000</td>\n",
       "      <td>2017</td>\n",
       "      <td>19177000000000.000000</td>\n",
       "    </tr>\n",
       "    <tr>\n",
       "      <th>587</th>\n",
       "      <td>VA</td>\n",
       "      <td>1367000000.000000</td>\n",
       "      <td>2017</td>\n",
       "      <td>19177000000000.000000</td>\n",
       "    </tr>\n",
       "  </tbody>\n",
       "</table>\n",
       "<p>588 rows × 4 columns</p>\n",
       "</div>"
      ],
      "text/plain": [
       "    Department             Budget  Year                   GDP\n",
       "0          DHS                NaN  1976  1790000000000.000000\n",
       "1          DOC   819000000.000000  1976  1790000000000.000000\n",
       "2          DOD 35696000000.000000  1976  1790000000000.000000\n",
       "3          DOE 10882000000.000000  1976  1790000000000.000000\n",
       "4          DOT  1142000000.000000  1976  1790000000000.000000\n",
       "..         ...                ...   ...                   ...\n",
       "583        NIH 33052000000.000000  2017 19177000000000.000000\n",
       "584        NSF  6040000000.000000  2017 19177000000000.000000\n",
       "585      Other  1553000000.000000  2017 19177000000000.000000\n",
       "586       USDA  2625000000.000000  2017 19177000000000.000000\n",
       "587         VA  1367000000.000000  2017 19177000000000.000000\n",
       "\n",
       "[588 rows x 4 columns]"
      ]
     },
     "execution_count": 33,
     "metadata": {},
     "output_type": "execute_result"
    }
   ],
   "source": [
    "# adjusting data types and column names\n",
    "print(df_budget_clean_3[[\"department\", \"Budget\", \"Year\", \"GDP\"]].dtypes)                 # confirming data types\n",
    "\n",
    "\n",
    "df_budget_clean_4 = df_budget_clean_3.copy()                                             # creating a new dataframe, which is a copy of the fourth \n",
    "\n",
    "df_budget_clean_4[\"GDP\"] = df_budget_clean_4[\"GDP\"].astype(float)                        # converting \"GDP\" to float\n",
    "\n",
    "df_budget_clean_4[\"Year\"] = pd.to_datetime(df_budget_clean_4[\"Year\"]).dt.year            # changing \"Year\" to dt, using method stringing to change to just year (dropping day and month)\n",
    "\n",
    "df_budget_clean_4= df_budget_clean_4.rename(columns = {\"department\" : \"Department\"})     # changing name of \"department\" to \"Department\" to ensure consistency\n",
    "\n",
    "print(df_budget_clean_4[[\"Department\", \"Budget\", \"Year\", \"GDP\"]].dtypes)                 # confirming data types\n",
    "\n",
    "df_budget_clean_4"
   ]
  },
  {
   "cell_type": "markdown",
   "metadata": {},
   "source": [
    "**Output**\n",
    "\n",
    "I will receive (a) two new columns, which are \"Year\" and \"GDP\" while dropping the column \"Year_GDP\".\n",
    "\n",
    "I will then receive (b) a modified \"GDP\" column, which no longer includes the characters \"gdp\" before the number that is the GDP.\n",
    "\n",
    "Finally, I will receive (c) a table where each column is an appropriate datatype. The variables (i.e., the first row of each column) will also match stylistically."
   ]
  },
  {
   "cell_type": "markdown",
   "metadata": {},
   "source": [
    "### 1.4: Exporting data"
   ]
  },
  {
   "cell_type": "markdown",
   "metadata": {},
   "source": [
    "**Input**\n",
    "\n",
    "In 1.4, I will be exporting data so that the *clean* version is easily accessible. I will be making a csv and an excel file of the cleaned data. I will be using the functions \"to_csv\" and \"to_excel\", which require the entry of a path for where the files should be deposited."
   ]
  },
  {
   "cell_type": "code",
   "execution_count": 34,
   "metadata": {},
   "outputs": [],
   "source": [
    "df_budget_clean_final = df_budget_clean_4.copy()                            # copying for final version\n",
    "\n",
    "df_budget_clean_final.to_csv(\"clean-data/df_budget_clean_final.csv\", index = False)        # exporting as csv file\n",
    "\n",
    "df_budget_clean_final.to_excel(\"clean-data/df_budget_clean_final.xlsx\", index = False)     # exporting as excel file"
   ]
  },
  {
   "cell_type": "markdown",
   "metadata": {},
   "source": [
    "**Output**\n",
    "\n",
    "I will receive two files. The first is the cleaned dataset in csv format, while the second is in excel. They will be located in the folder \"clean-data\", which is inside \"TidyData-Project\"."
   ]
  },
  {
   "cell_type": "markdown",
   "metadata": {},
   "source": [
    "## 2: Visualizations"
   ]
  },
  {
   "cell_type": "markdown",
   "metadata": {},
   "source": [
    "### 2.1: Change of R&D on a departmental level over time"
   ]
  },
  {
   "cell_type": "markdown",
   "metadata": {},
   "source": [
    "**Input**\n",
    "\n",
    "In 2.1, I will illustrate the change in budget across the years for each department. I will be doing so by looping through the departments listed, graphing each unique one using \"sns.lineplot\". I will be creating a line plot as I am showing a change over time in a continuous variable.\n",
    "\n",
    "Looping through is necessary as each observation needs to be ckeced to see what department it is associated with. \"Unique\" provides a list of department names where each unique department has one entry. By using enumerate, I ensure each department is tagged with an index, allowing them to be later placed on a plot.\n",
    "\n",
    "\n",
    "To display all of the graphs together, I will use \"plt.subplot\", allowing me to divide the plot into multiple lots graphs can be placed in. In \"plt.subplot\", information is given in the order of (1) row count, (2) column count, and, finally (3) placement of each plot within the new row/column arrangement."
   ]
  },
  {
   "cell_type": "code",
   "execution_count": 35,
   "metadata": {},
   "outputs": [
    {
     "ename": "KeyboardInterrupt",
     "evalue": "",
     "output_type": "error",
     "traceback": [
      "\u001b[0;31m---------------------------------------------------------------------------\u001b[0m",
      "\u001b[0;31mAttributeError\u001b[0m                            Traceback (most recent call last)",
      "File \u001b[0;32m/opt/anaconda3/lib/python3.12/site-packages/PIL/ImageFile.py:547\u001b[0m, in \u001b[0;36m_save\u001b[0;34m(im, fp, tile, bufsize)\u001b[0m\n\u001b[1;32m    546\u001b[0m \u001b[38;5;28;01mtry\u001b[39;00m:\n\u001b[0;32m--> 547\u001b[0m     fh \u001b[38;5;241m=\u001b[39m fp\u001b[38;5;241m.\u001b[39mfileno()\n\u001b[1;32m    548\u001b[0m     fp\u001b[38;5;241m.\u001b[39mflush()\n",
      "\u001b[0;31mAttributeError\u001b[0m: '_idat' object has no attribute 'fileno'",
      "\nDuring handling of the above exception, another exception occurred:\n",
      "\u001b[0;31mKeyboardInterrupt\u001b[0m                         Traceback (most recent call last)",
      "Cell \u001b[0;32mIn[35], line 18\u001b[0m\n\u001b[1;32m     16\u001b[0m \u001b[38;5;66;03m# finalizing graph\u001b[39;00m\n\u001b[1;32m     17\u001b[0m plt\u001b[38;5;241m.\u001b[39mtight_layout()                                                                             \u001b[38;5;66;03m# adjusting dimensions for readability\u001b[39;00m\n\u001b[0;32m---> 18\u001b[0m plt\u001b[38;5;241m.\u001b[39mshow()\n",
      "File \u001b[0;32m/opt/anaconda3/lib/python3.12/site-packages/matplotlib/pyplot.py:446\u001b[0m, in \u001b[0;36mshow\u001b[0;34m(*args, **kwargs)\u001b[0m\n\u001b[1;32m    402\u001b[0m \u001b[38;5;250m\u001b[39m\u001b[38;5;124;03m\"\"\"\u001b[39;00m\n\u001b[1;32m    403\u001b[0m \u001b[38;5;124;03mDisplay all open figures.\u001b[39;00m\n\u001b[1;32m    404\u001b[0m \n\u001b[0;32m   (...)\u001b[0m\n\u001b[1;32m    443\u001b[0m \u001b[38;5;124;03mexplicitly there.\u001b[39;00m\n\u001b[1;32m    444\u001b[0m \u001b[38;5;124;03m\"\"\"\u001b[39;00m\n\u001b[1;32m    445\u001b[0m _warn_if_gui_out_of_main_thread()\n\u001b[0;32m--> 446\u001b[0m \u001b[38;5;28;01mreturn\u001b[39;00m _get_backend_mod()\u001b[38;5;241m.\u001b[39mshow(\u001b[38;5;241m*\u001b[39margs, \u001b[38;5;241m*\u001b[39m\u001b[38;5;241m*\u001b[39mkwargs)\n",
      "File \u001b[0;32m/opt/anaconda3/lib/python3.12/site-packages/matplotlib_inline/backend_inline.py:90\u001b[0m, in \u001b[0;36mshow\u001b[0;34m(close, block)\u001b[0m\n\u001b[1;32m     88\u001b[0m \u001b[38;5;28;01mtry\u001b[39;00m:\n\u001b[1;32m     89\u001b[0m     \u001b[38;5;28;01mfor\u001b[39;00m figure_manager \u001b[38;5;129;01min\u001b[39;00m Gcf\u001b[38;5;241m.\u001b[39mget_all_fig_managers():\n\u001b[0;32m---> 90\u001b[0m         display(\n\u001b[1;32m     91\u001b[0m             figure_manager\u001b[38;5;241m.\u001b[39mcanvas\u001b[38;5;241m.\u001b[39mfigure,\n\u001b[1;32m     92\u001b[0m             metadata\u001b[38;5;241m=\u001b[39m_fetch_figure_metadata(figure_manager\u001b[38;5;241m.\u001b[39mcanvas\u001b[38;5;241m.\u001b[39mfigure)\n\u001b[1;32m     93\u001b[0m         )\n\u001b[1;32m     94\u001b[0m \u001b[38;5;28;01mfinally\u001b[39;00m:\n\u001b[1;32m     95\u001b[0m     show\u001b[38;5;241m.\u001b[39m_to_draw \u001b[38;5;241m=\u001b[39m []\n",
      "File \u001b[0;32m/opt/anaconda3/lib/python3.12/site-packages/IPython/core/display_functions.py:298\u001b[0m, in \u001b[0;36mdisplay\u001b[0;34m(include, exclude, metadata, transient, display_id, raw, clear, *objs, **kwargs)\u001b[0m\n\u001b[1;32m    296\u001b[0m     publish_display_data(data\u001b[38;5;241m=\u001b[39mobj, metadata\u001b[38;5;241m=\u001b[39mmetadata, \u001b[38;5;241m*\u001b[39m\u001b[38;5;241m*\u001b[39mkwargs)\n\u001b[1;32m    297\u001b[0m \u001b[38;5;28;01melse\u001b[39;00m:\n\u001b[0;32m--> 298\u001b[0m     format_dict, md_dict \u001b[38;5;241m=\u001b[39m \u001b[38;5;28mformat\u001b[39m(obj, include\u001b[38;5;241m=\u001b[39minclude, exclude\u001b[38;5;241m=\u001b[39mexclude)\n\u001b[1;32m    299\u001b[0m     \u001b[38;5;28;01mif\u001b[39;00m \u001b[38;5;129;01mnot\u001b[39;00m format_dict:\n\u001b[1;32m    300\u001b[0m         \u001b[38;5;66;03m# nothing to display (e.g. _ipython_display_ took over)\u001b[39;00m\n\u001b[1;32m    301\u001b[0m         \u001b[38;5;28;01mcontinue\u001b[39;00m\n",
      "File \u001b[0;32m/opt/anaconda3/lib/python3.12/site-packages/IPython/core/formatters.py:182\u001b[0m, in \u001b[0;36mDisplayFormatter.format\u001b[0;34m(self, obj, include, exclude)\u001b[0m\n\u001b[1;32m    180\u001b[0m md \u001b[38;5;241m=\u001b[39m \u001b[38;5;28;01mNone\u001b[39;00m\n\u001b[1;32m    181\u001b[0m \u001b[38;5;28;01mtry\u001b[39;00m:\n\u001b[0;32m--> 182\u001b[0m     data \u001b[38;5;241m=\u001b[39m formatter(obj)\n\u001b[1;32m    183\u001b[0m \u001b[38;5;28;01mexcept\u001b[39;00m:\n\u001b[1;32m    184\u001b[0m     \u001b[38;5;66;03m# FIXME: log the exception\u001b[39;00m\n\u001b[1;32m    185\u001b[0m     \u001b[38;5;28;01mraise\u001b[39;00m\n",
      "File \u001b[0;32m/opt/anaconda3/lib/python3.12/site-packages/decorator.py:232\u001b[0m, in \u001b[0;36mdecorate.<locals>.fun\u001b[0;34m(*args, **kw)\u001b[0m\n\u001b[1;32m    230\u001b[0m \u001b[38;5;28;01mif\u001b[39;00m \u001b[38;5;129;01mnot\u001b[39;00m kwsyntax:\n\u001b[1;32m    231\u001b[0m     args, kw \u001b[38;5;241m=\u001b[39m fix(args, kw, sig)\n\u001b[0;32m--> 232\u001b[0m \u001b[38;5;28;01mreturn\u001b[39;00m caller(func, \u001b[38;5;241m*\u001b[39m(extras \u001b[38;5;241m+\u001b[39m args), \u001b[38;5;241m*\u001b[39m\u001b[38;5;241m*\u001b[39mkw)\n",
      "File \u001b[0;32m/opt/anaconda3/lib/python3.12/site-packages/IPython/core/formatters.py:226\u001b[0m, in \u001b[0;36mcatch_format_error\u001b[0;34m(method, self, *args, **kwargs)\u001b[0m\n\u001b[1;32m    224\u001b[0m \u001b[38;5;250m\u001b[39m\u001b[38;5;124;03m\"\"\"show traceback on failed format call\"\"\"\u001b[39;00m\n\u001b[1;32m    225\u001b[0m \u001b[38;5;28;01mtry\u001b[39;00m:\n\u001b[0;32m--> 226\u001b[0m     r \u001b[38;5;241m=\u001b[39m method(\u001b[38;5;28mself\u001b[39m, \u001b[38;5;241m*\u001b[39margs, \u001b[38;5;241m*\u001b[39m\u001b[38;5;241m*\u001b[39mkwargs)\n\u001b[1;32m    227\u001b[0m \u001b[38;5;28;01mexcept\u001b[39;00m \u001b[38;5;167;01mNotImplementedError\u001b[39;00m:\n\u001b[1;32m    228\u001b[0m     \u001b[38;5;66;03m# don't warn on NotImplementedErrors\u001b[39;00m\n\u001b[1;32m    229\u001b[0m     \u001b[38;5;28;01mreturn\u001b[39;00m \u001b[38;5;28mself\u001b[39m\u001b[38;5;241m.\u001b[39m_check_return(\u001b[38;5;28;01mNone\u001b[39;00m, args[\u001b[38;5;241m0\u001b[39m])\n",
      "File \u001b[0;32m/opt/anaconda3/lib/python3.12/site-packages/IPython/core/formatters.py:343\u001b[0m, in \u001b[0;36mBaseFormatter.__call__\u001b[0;34m(self, obj)\u001b[0m\n\u001b[1;32m    341\u001b[0m     \u001b[38;5;28;01mpass\u001b[39;00m\n\u001b[1;32m    342\u001b[0m \u001b[38;5;28;01melse\u001b[39;00m:\n\u001b[0;32m--> 343\u001b[0m     \u001b[38;5;28;01mreturn\u001b[39;00m printer(obj)\n\u001b[1;32m    344\u001b[0m \u001b[38;5;66;03m# Finally look for special method names\u001b[39;00m\n\u001b[1;32m    345\u001b[0m method \u001b[38;5;241m=\u001b[39m get_real_method(obj, \u001b[38;5;28mself\u001b[39m\u001b[38;5;241m.\u001b[39mprint_method)\n",
      "File \u001b[0;32m/opt/anaconda3/lib/python3.12/site-packages/IPython/core/pylabtools.py:170\u001b[0m, in \u001b[0;36mprint_figure\u001b[0;34m(fig, fmt, bbox_inches, base64, **kwargs)\u001b[0m\n\u001b[1;32m    167\u001b[0m     \u001b[38;5;28;01mfrom\u001b[39;00m \u001b[38;5;21;01mmatplotlib\u001b[39;00m\u001b[38;5;21;01m.\u001b[39;00m\u001b[38;5;21;01mbackend_bases\u001b[39;00m \u001b[38;5;28;01mimport\u001b[39;00m FigureCanvasBase\n\u001b[1;32m    168\u001b[0m     FigureCanvasBase(fig)\n\u001b[0;32m--> 170\u001b[0m fig\u001b[38;5;241m.\u001b[39mcanvas\u001b[38;5;241m.\u001b[39mprint_figure(bytes_io, \u001b[38;5;241m*\u001b[39m\u001b[38;5;241m*\u001b[39mkw)\n\u001b[1;32m    171\u001b[0m data \u001b[38;5;241m=\u001b[39m bytes_io\u001b[38;5;241m.\u001b[39mgetvalue()\n\u001b[1;32m    172\u001b[0m \u001b[38;5;28;01mif\u001b[39;00m fmt \u001b[38;5;241m==\u001b[39m \u001b[38;5;124m'\u001b[39m\u001b[38;5;124msvg\u001b[39m\u001b[38;5;124m'\u001b[39m:\n",
      "File \u001b[0;32m/opt/anaconda3/lib/python3.12/site-packages/matplotlib/backend_bases.py:2366\u001b[0m, in \u001b[0;36mFigureCanvasBase.print_figure\u001b[0;34m(self, filename, dpi, facecolor, edgecolor, orientation, format, bbox_inches, pad_inches, bbox_extra_artists, backend, **kwargs)\u001b[0m\n\u001b[1;32m   2362\u001b[0m \u001b[38;5;28;01mtry\u001b[39;00m:\n\u001b[1;32m   2363\u001b[0m     \u001b[38;5;66;03m# _get_renderer may change the figure dpi (as vector formats\u001b[39;00m\n\u001b[1;32m   2364\u001b[0m     \u001b[38;5;66;03m# force the figure dpi to 72), so we need to set it again here.\u001b[39;00m\n\u001b[1;32m   2365\u001b[0m     \u001b[38;5;28;01mwith\u001b[39;00m cbook\u001b[38;5;241m.\u001b[39m_setattr_cm(\u001b[38;5;28mself\u001b[39m\u001b[38;5;241m.\u001b[39mfigure, dpi\u001b[38;5;241m=\u001b[39mdpi):\n\u001b[0;32m-> 2366\u001b[0m         result \u001b[38;5;241m=\u001b[39m print_method(\n\u001b[1;32m   2367\u001b[0m             filename,\n\u001b[1;32m   2368\u001b[0m             facecolor\u001b[38;5;241m=\u001b[39mfacecolor,\n\u001b[1;32m   2369\u001b[0m             edgecolor\u001b[38;5;241m=\u001b[39medgecolor,\n\u001b[1;32m   2370\u001b[0m             orientation\u001b[38;5;241m=\u001b[39morientation,\n\u001b[1;32m   2371\u001b[0m             bbox_inches_restore\u001b[38;5;241m=\u001b[39m_bbox_inches_restore,\n\u001b[1;32m   2372\u001b[0m             \u001b[38;5;241m*\u001b[39m\u001b[38;5;241m*\u001b[39mkwargs)\n\u001b[1;32m   2373\u001b[0m \u001b[38;5;28;01mfinally\u001b[39;00m:\n\u001b[1;32m   2374\u001b[0m     \u001b[38;5;28;01mif\u001b[39;00m bbox_inches \u001b[38;5;129;01mand\u001b[39;00m restore_bbox:\n",
      "File \u001b[0;32m/opt/anaconda3/lib/python3.12/site-packages/matplotlib/backend_bases.py:2232\u001b[0m, in \u001b[0;36mFigureCanvasBase._switch_canvas_and_return_print_method.<locals>.<lambda>\u001b[0;34m(*args, **kwargs)\u001b[0m\n\u001b[1;32m   2228\u001b[0m     optional_kws \u001b[38;5;241m=\u001b[39m {  \u001b[38;5;66;03m# Passed by print_figure for other renderers.\u001b[39;00m\n\u001b[1;32m   2229\u001b[0m         \u001b[38;5;124m\"\u001b[39m\u001b[38;5;124mdpi\u001b[39m\u001b[38;5;124m\"\u001b[39m, \u001b[38;5;124m\"\u001b[39m\u001b[38;5;124mfacecolor\u001b[39m\u001b[38;5;124m\"\u001b[39m, \u001b[38;5;124m\"\u001b[39m\u001b[38;5;124medgecolor\u001b[39m\u001b[38;5;124m\"\u001b[39m, \u001b[38;5;124m\"\u001b[39m\u001b[38;5;124morientation\u001b[39m\u001b[38;5;124m\"\u001b[39m,\n\u001b[1;32m   2230\u001b[0m         \u001b[38;5;124m\"\u001b[39m\u001b[38;5;124mbbox_inches_restore\u001b[39m\u001b[38;5;124m\"\u001b[39m}\n\u001b[1;32m   2231\u001b[0m     skip \u001b[38;5;241m=\u001b[39m optional_kws \u001b[38;5;241m-\u001b[39m {\u001b[38;5;241m*\u001b[39minspect\u001b[38;5;241m.\u001b[39msignature(meth)\u001b[38;5;241m.\u001b[39mparameters}\n\u001b[0;32m-> 2232\u001b[0m     print_method \u001b[38;5;241m=\u001b[39m functools\u001b[38;5;241m.\u001b[39mwraps(meth)(\u001b[38;5;28;01mlambda\u001b[39;00m \u001b[38;5;241m*\u001b[39margs, \u001b[38;5;241m*\u001b[39m\u001b[38;5;241m*\u001b[39mkwargs: meth(\n\u001b[1;32m   2233\u001b[0m         \u001b[38;5;241m*\u001b[39margs, \u001b[38;5;241m*\u001b[39m\u001b[38;5;241m*\u001b[39m{k: v \u001b[38;5;28;01mfor\u001b[39;00m k, v \u001b[38;5;129;01min\u001b[39;00m kwargs\u001b[38;5;241m.\u001b[39mitems() \u001b[38;5;28;01mif\u001b[39;00m k \u001b[38;5;129;01mnot\u001b[39;00m \u001b[38;5;129;01min\u001b[39;00m skip}))\n\u001b[1;32m   2234\u001b[0m \u001b[38;5;28;01melse\u001b[39;00m:  \u001b[38;5;66;03m# Let third-parties do as they see fit.\u001b[39;00m\n\u001b[1;32m   2235\u001b[0m     print_method \u001b[38;5;241m=\u001b[39m meth\n",
      "File \u001b[0;32m/opt/anaconda3/lib/python3.12/site-packages/matplotlib/backends/backend_agg.py:509\u001b[0m, in \u001b[0;36mFigureCanvasAgg.print_png\u001b[0;34m(self, filename_or_obj, metadata, pil_kwargs)\u001b[0m\n\u001b[1;32m    462\u001b[0m \u001b[38;5;28;01mdef\u001b[39;00m \u001b[38;5;21mprint_png\u001b[39m(\u001b[38;5;28mself\u001b[39m, filename_or_obj, \u001b[38;5;241m*\u001b[39m, metadata\u001b[38;5;241m=\u001b[39m\u001b[38;5;28;01mNone\u001b[39;00m, pil_kwargs\u001b[38;5;241m=\u001b[39m\u001b[38;5;28;01mNone\u001b[39;00m):\n\u001b[1;32m    463\u001b[0m \u001b[38;5;250m    \u001b[39m\u001b[38;5;124;03m\"\"\"\u001b[39;00m\n\u001b[1;32m    464\u001b[0m \u001b[38;5;124;03m    Write the figure to a PNG file.\u001b[39;00m\n\u001b[1;32m    465\u001b[0m \n\u001b[0;32m   (...)\u001b[0m\n\u001b[1;32m    507\u001b[0m \u001b[38;5;124;03m        *metadata*, including the default 'Software' key.\u001b[39;00m\n\u001b[1;32m    508\u001b[0m \u001b[38;5;124;03m    \"\"\"\u001b[39;00m\n\u001b[0;32m--> 509\u001b[0m     \u001b[38;5;28mself\u001b[39m\u001b[38;5;241m.\u001b[39m_print_pil(filename_or_obj, \u001b[38;5;124m\"\u001b[39m\u001b[38;5;124mpng\u001b[39m\u001b[38;5;124m\"\u001b[39m, pil_kwargs, metadata)\n",
      "File \u001b[0;32m/opt/anaconda3/lib/python3.12/site-packages/matplotlib/backends/backend_agg.py:458\u001b[0m, in \u001b[0;36mFigureCanvasAgg._print_pil\u001b[0;34m(self, filename_or_obj, fmt, pil_kwargs, metadata)\u001b[0m\n\u001b[1;32m    453\u001b[0m \u001b[38;5;250m\u001b[39m\u001b[38;5;124;03m\"\"\"\u001b[39;00m\n\u001b[1;32m    454\u001b[0m \u001b[38;5;124;03mDraw the canvas, then save it using `.image.imsave` (to which\u001b[39;00m\n\u001b[1;32m    455\u001b[0m \u001b[38;5;124;03m*pil_kwargs* and *metadata* are forwarded).\u001b[39;00m\n\u001b[1;32m    456\u001b[0m \u001b[38;5;124;03m\"\"\"\u001b[39;00m\n\u001b[1;32m    457\u001b[0m FigureCanvasAgg\u001b[38;5;241m.\u001b[39mdraw(\u001b[38;5;28mself\u001b[39m)\n\u001b[0;32m--> 458\u001b[0m mpl\u001b[38;5;241m.\u001b[39mimage\u001b[38;5;241m.\u001b[39mimsave(\n\u001b[1;32m    459\u001b[0m     filename_or_obj, \u001b[38;5;28mself\u001b[39m\u001b[38;5;241m.\u001b[39mbuffer_rgba(), \u001b[38;5;28mformat\u001b[39m\u001b[38;5;241m=\u001b[39mfmt, origin\u001b[38;5;241m=\u001b[39m\u001b[38;5;124m\"\u001b[39m\u001b[38;5;124mupper\u001b[39m\u001b[38;5;124m\"\u001b[39m,\n\u001b[1;32m    460\u001b[0m     dpi\u001b[38;5;241m=\u001b[39m\u001b[38;5;28mself\u001b[39m\u001b[38;5;241m.\u001b[39mfigure\u001b[38;5;241m.\u001b[39mdpi, metadata\u001b[38;5;241m=\u001b[39mmetadata, pil_kwargs\u001b[38;5;241m=\u001b[39mpil_kwargs)\n",
      "File \u001b[0;32m/opt/anaconda3/lib/python3.12/site-packages/matplotlib/image.py:1689\u001b[0m, in \u001b[0;36mimsave\u001b[0;34m(fname, arr, vmin, vmax, cmap, format, origin, dpi, metadata, pil_kwargs)\u001b[0m\n\u001b[1;32m   1687\u001b[0m pil_kwargs\u001b[38;5;241m.\u001b[39msetdefault(\u001b[38;5;124m\"\u001b[39m\u001b[38;5;124mformat\u001b[39m\u001b[38;5;124m\"\u001b[39m, \u001b[38;5;28mformat\u001b[39m)\n\u001b[1;32m   1688\u001b[0m pil_kwargs\u001b[38;5;241m.\u001b[39msetdefault(\u001b[38;5;124m\"\u001b[39m\u001b[38;5;124mdpi\u001b[39m\u001b[38;5;124m\"\u001b[39m, (dpi, dpi))\n\u001b[0;32m-> 1689\u001b[0m image\u001b[38;5;241m.\u001b[39msave(fname, \u001b[38;5;241m*\u001b[39m\u001b[38;5;241m*\u001b[39mpil_kwargs)\n",
      "File \u001b[0;32m/opt/anaconda3/lib/python3.12/site-packages/PIL/Image.py:2568\u001b[0m, in \u001b[0;36mImage.save\u001b[0;34m(self, fp, format, **params)\u001b[0m\n\u001b[1;32m   2565\u001b[0m     fp \u001b[38;5;241m=\u001b[39m cast(IO[\u001b[38;5;28mbytes\u001b[39m], fp)\n\u001b[1;32m   2567\u001b[0m \u001b[38;5;28;01mtry\u001b[39;00m:\n\u001b[0;32m-> 2568\u001b[0m     save_handler(\u001b[38;5;28mself\u001b[39m, fp, filename)\n\u001b[1;32m   2569\u001b[0m \u001b[38;5;28;01mexcept\u001b[39;00m \u001b[38;5;167;01mException\u001b[39;00m:\n\u001b[1;32m   2570\u001b[0m     \u001b[38;5;28;01mif\u001b[39;00m open_fp:\n",
      "File \u001b[0;32m/opt/anaconda3/lib/python3.12/site-packages/PIL/PngImagePlugin.py:1431\u001b[0m, in \u001b[0;36m_save\u001b[0;34m(im, fp, filename, chunk, save_all)\u001b[0m\n\u001b[1;32m   1427\u001b[0m     im \u001b[38;5;241m=\u001b[39m _write_multiple_frames(\n\u001b[1;32m   1428\u001b[0m         im, fp, chunk, mode, rawmode, default_image, append_images\n\u001b[1;32m   1429\u001b[0m     )\n\u001b[1;32m   1430\u001b[0m \u001b[38;5;28;01mif\u001b[39;00m im:\n\u001b[0;32m-> 1431\u001b[0m     ImageFile\u001b[38;5;241m.\u001b[39m_save(im, _idat(fp, chunk), [(\u001b[38;5;124m\"\u001b[39m\u001b[38;5;124mzip\u001b[39m\u001b[38;5;124m\"\u001b[39m, (\u001b[38;5;241m0\u001b[39m, \u001b[38;5;241m0\u001b[39m) \u001b[38;5;241m+\u001b[39m im\u001b[38;5;241m.\u001b[39msize, \u001b[38;5;241m0\u001b[39m, rawmode)])\n\u001b[1;32m   1433\u001b[0m \u001b[38;5;28;01mif\u001b[39;00m info:\n\u001b[1;32m   1434\u001b[0m     \u001b[38;5;28;01mfor\u001b[39;00m info_chunk \u001b[38;5;129;01min\u001b[39;00m info\u001b[38;5;241m.\u001b[39mchunks:\n",
      "File \u001b[0;32m/opt/anaconda3/lib/python3.12/site-packages/PIL/ImageFile.py:551\u001b[0m, in \u001b[0;36m_save\u001b[0;34m(im, fp, tile, bufsize)\u001b[0m\n\u001b[1;32m    549\u001b[0m     _encode_tile(im, fp, tile, bufsize, fh)\n\u001b[1;32m    550\u001b[0m \u001b[38;5;28;01mexcept\u001b[39;00m (\u001b[38;5;167;01mAttributeError\u001b[39;00m, io\u001b[38;5;241m.\u001b[39mUnsupportedOperation) \u001b[38;5;28;01mas\u001b[39;00m exc:\n\u001b[0;32m--> 551\u001b[0m     _encode_tile(im, fp, tile, bufsize, \u001b[38;5;28;01mNone\u001b[39;00m, exc)\n\u001b[1;32m    552\u001b[0m \u001b[38;5;28;01mif\u001b[39;00m \u001b[38;5;28mhasattr\u001b[39m(fp, \u001b[38;5;124m\"\u001b[39m\u001b[38;5;124mflush\u001b[39m\u001b[38;5;124m\"\u001b[39m):\n\u001b[1;32m    553\u001b[0m     fp\u001b[38;5;241m.\u001b[39mflush()\n",
      "File \u001b[0;32m/opt/anaconda3/lib/python3.12/site-packages/PIL/ImageFile.py:570\u001b[0m, in \u001b[0;36m_encode_tile\u001b[0;34m(im, fp, tile, bufsize, fh, exc)\u001b[0m\n\u001b[1;32m    567\u001b[0m \u001b[38;5;28;01mif\u001b[39;00m exc:\n\u001b[1;32m    568\u001b[0m     \u001b[38;5;66;03m# compress to Python file-compatible object\u001b[39;00m\n\u001b[1;32m    569\u001b[0m     \u001b[38;5;28;01mwhile\u001b[39;00m \u001b[38;5;28;01mTrue\u001b[39;00m:\n\u001b[0;32m--> 570\u001b[0m         errcode, data \u001b[38;5;241m=\u001b[39m encoder\u001b[38;5;241m.\u001b[39mencode(bufsize)[\u001b[38;5;241m1\u001b[39m:]\n\u001b[1;32m    571\u001b[0m         fp\u001b[38;5;241m.\u001b[39mwrite(data)\n\u001b[1;32m    572\u001b[0m         \u001b[38;5;28;01mif\u001b[39;00m errcode:\n",
      "\u001b[0;31mKeyboardInterrupt\u001b[0m: "
     ]
    }
   ],
   "source": [
    "# setting up plot\n",
    "plt.figure(figsize = (20,30))                                                                  # creating plot that is 20x30\n",
    "\n",
    "# graphing information for each department\n",
    "for i, Department in enumerate(df_budget_clean_final[\"Department\"].unique()):                  # looping over unique values in department\n",
    "    values_vis_1 = df_budget_clean_final[df_budget_clean_final[\"Department\"] == Department]    # creating dataset broken out by department\n",
    "    \n",
    "    plt.subplot(6, 3, i+1)                                                                     # creating 18 subplots, of which 14 will be used\n",
    "    sns.lineplot(x=values_vis_1[\"Year\"],\n",
    "                y=values_vis_1[\"Budget\"] / 10**9, color = \"green\")                             # plotting \"Year\" against \"Budget\" as a green line, with each of the 14 graphs detailing a different department\n",
    "    \n",
    "    plt.title(f\"Year-Over-Year Budget for {Department} in Billions of USD\", fontsize = 15)     # creating titles for graph and axes\n",
    "    plt.xlabel(\"Year\", fontsize = 12.5)\n",
    "    plt.ylabel(\"Budget\", fontsize = 12.5)\n",
    "\n",
    "# finalizing graph\n",
    "plt.tight_layout()                                                                             # adjusting dimensions for readability\n",
    "plt.show()"
   ]
  },
  {
   "cell_type": "markdown",
   "metadata": {},
   "source": [
    "**Output**\n",
    "\n",
    "I will receive 14 graphs that each have a line detailing how the budget changed for each department over the years measured. The scale will be in the billions, meaning if for one year a department reports a budget of 1 trillion, it will appear as 1 on the graphs."
   ]
  },
  {
   "cell_type": "markdown",
   "metadata": {},
   "source": [
    "### 2.2: Change in GDP over time"
   ]
  },
  {
   "cell_type": "markdown",
   "metadata": {},
   "source": [
    "**Input**\n",
    "\n",
    "In 2.2, I will be plotting the variable \"Year\" against \"GDP\" using the \"sns.lineplot\" function. I will be using a line plot as I am looking at the change of a continuous variable over a period of time.\n",
    "\n",
    "To illustrate the trend the graph shows, I will be calculating the compound annual growth rate (CAGR) and plotting a line to represent it. The formula for CAGR is (end value / start value)^(1/period) - 1. I will also be entering \"green\" into \"color\" to have consistency in color across all graphs in section 2."
   ]
  },
  {
   "cell_type": "code",
   "execution_count": null,
   "metadata": {},
   "outputs": [
    {
     "data": {
      "image/png": "[encoded data removed]",
      "text/plain": [
       "<Figure size 1000x500 with 1 Axes>"
      ]
     },
     "metadata": {},
     "output_type": "display_data"
    }
   ],
   "source": [
    "# setting up plot\n",
    "plt.figure(figsize=(10, 5))                                                                        # creating plot that is 10x5\n",
    "\n",
    "# plotting GDP in trillions of USD\n",
    "sns.lineplot(x = df_budget_clean_final[\"Year\"],                                                    # plotting \"Year\" against \"GDP\" scaled to trillions as a green line\n",
    "         y = df_budget_clean_final[\"GDP\"] / 10**12, color = \"green\", \n",
    "         label = \"GDP\")\n",
    "\n",
    "plt.title(\"Year-Over-Year GDP in Trillions of USD\", fontsize = 15)                                 # creating titles for graph and axes\n",
    "plt.xlabel(\"Year\", fontsize = 12.5)\n",
    "plt.ylabel(\"GDP\",  fontsize = 12.5)\n",
    "\n",
    "# calculating CAGR\n",
    "gdp_0 = df_budget_clean_final[\"GDP\"].iloc[0]                                                       # determining first and last GDP values\n",
    "gdp_1 = df_budget_clean_final[\"GDP\"].iloc[-1]\n",
    "\n",
    "\n",
    "periods = df_budget_clean_final[\"Year\"].iloc[-1] - df_budget_clean_final[\"Year\"].iloc[0] - 1       # determining number of periods by subtracting one from the difference in years between the first and last GDP\n",
    "\n",
    "cagr = ((gdp_1 / gdp_0) ** (1 / periods) - 1) * 100                                                # calculating cagr\n",
    "cagr_rounded = round(cagr, 3)                                                                      # rounding cagr for ease\n",
    "\n",
    "# plotting and labelling CAGR line\n",
    "cagr_line = (df_budget_clean_final[\"Year\"] - \n",
    "             df_budget_clean_final[\"Year\"].iloc[0]) * .42 + 2.5                                    # creating line to REPRESENT cagr (not actual line) \n",
    "\n",
    "sns.lineplot(x = df_budget_clean_final[\"Year\"], y = cagr_line, color = \"black\", \n",
    "         linestyle = \"--\", \n",
    "         label = \"Compound Annual Growth Rate (CAGR)\")                                             # plotting line as dashed and black\n",
    "\n",
    "horizontal = df_budget_clean_final[\"Year\"].iloc[210]                                               # determining label location on plot\n",
    "vertical = df_budget_clean_final[\"GDP\"].iloc[300] / 10**12\n",
    "plt.text(x=horizontal, y=vertical + 1, s=f\"CAGR: {cagr_rounded}%\", rotation=22.5)                  # adding label to cagr line\n",
    "\n",
    "# finalizing graph\n",
    "plt.legend()                                                                                       # adding legend\n",
    "plt.tight_layout()                                                                                 # adjusting dimensions for readability\n",
    "plt.show()"
   ]
  },
  {
   "cell_type": "markdown",
   "metadata": {},
   "source": [
    "**Output**\n",
    "\n",
    "I will receive one graph with two lines. The first line (the green one) will have varying gradients as it is showing change over time--not an overarching trend. The second line (the dashed black one) will have a constant gradient as its purpose is to illustrate how over time the GDP grows. There will also be a legend detailing what each line means."
   ]
  },
  {
   "cell_type": "markdown",
   "metadata": {},
   "source": [
    "### 2.3: Average budget per department"
   ]
  },
  {
   "cell_type": "markdown",
   "metadata": {},
   "source": [
    "**Input**\n",
    "\n",
    "In 2.3, I will be making a bar plot showcasing the average budget of each department using sns.barplot. I will be using a bar graph as I am plotting a series of nominal data for comparison.\n",
    "\n",
    "To create the graph, I will group the data by department using the \"groupby\" function. Then, I will take the take the mean of each department using the \"mean\" function. They will be sorted in descending order using the \"sort_values\" function, showcasing the most significant spenders first."
   ]
  },
  {
   "cell_type": "code",
   "execution_count": null,
   "metadata": {},
   "outputs": [
    {
     "data": {
      "image/png": "[encoded data removed]",
      "text/plain": [
       "<Figure size 1500x1000 with 1 Axes>"
      ]
     },
     "metadata": {},
     "output_type": "display_data"
    }
   ],
   "source": [
    "# setting up plot\n",
    "plt.figure(figsize=(15,10))                                                                                               # creating plot that is 15x20\n",
    "\n",
    "# preparing data for visualization\n",
    "values_vis_3 = df_budget_clean_final.groupby(\"Department\")[\"Budget\"].mean().reset_index().sort_values(by = \"Budget\",      # making the values within value_vis_3 be the average budget for each department\n",
    "                                                                                                      ascending=False)    # placing departments in descending order according to budget\n",
    "values_vis_3[\"Budget\"] = values_vis_3[\"Budget\"] / 10**9                                                                   # dividing values by 1 billion\n",
    "\n",
    "# plotting data\n",
    "sns.barplot(x = \"Department\", y = \"Budget\", data = values_vis_3, palette = \"Greens_r\")                                    # plotting data, where values higher values are a darker shade of green than lower ones\n",
    "\n",
    "plt.title(\"Average Budget per Department in Billions of USD\", fontsize = 20)                                              # creating titles for graph and axes\n",
    "plt.xlabel(\"Department\", fontsize = 15)\n",
    "plt.ylabel(\"Average Budget\", fontsize = 15)\n",
    "\n",
    "# finalizing graph\n",
    "plt.tight_layout()                                                                                                       # adjusting dimensions for readability\n",
    "plt.show()"
   ]
  },
  {
   "cell_type": "markdown",
   "metadata": {},
   "source": [
    "**Output**\n",
    "\n",
    "I will receive a graph that lists all of the departments. The heaviest spenders will be on the left and have the darkest shade of green, with the shade becoming progressively lighter as the average budget of a department decreases."
   ]
  },
  {
   "cell_type": "markdown",
   "metadata": {},
   "source": [
    "## 3: Pivot-tables"
   ]
  },
  {
   "cell_type": "markdown",
   "metadata": {},
   "source": [
    "### 3.1: Average Spending per Department"
   ]
  },
  {
   "cell_type": "markdown",
   "metadata": {},
   "source": [
    "**Input**\n",
    "\n",
    "In 3.1, I will develop a pivot table that helps us understand how much--on average--a department spent every year using \"pd.pivot_table\". The values will be \"Budget\" as it is associated with \"values\", and the values will be summarized as the average across all years as the \"aggfunc\" is \"mean\". The observations will be each department as that is listed under \"index\"."
   ]
  },
  {
   "cell_type": "code",
   "execution_count": null,
   "metadata": {},
   "outputs": [
    {
     "name": "stdout",
     "output_type": "stream",
     "text": [
      "Pivot Table: Average Budget per Department\n"
     ]
    },
    {
     "data": {
      "text/html": [
       "<div>\n",
       "<style scoped>\n",
       "    .dataframe tbody tr th:only-of-type {\n",
       "        vertical-align: middle;\n",
       "    }\n",
       "\n",
       "    .dataframe tbody tr th {\n",
       "        vertical-align: top;\n",
       "    }\n",
       "\n",
       "    .dataframe thead th {\n",
       "        text-align: right;\n",
       "    }\n",
       "</style>\n",
       "<table border=\"1\" class=\"dataframe\">\n",
       "  <thead>\n",
       "    <tr style=\"text-align: right;\">\n",
       "      <th></th>\n",
       "      <th>Budget</th>\n",
       "    </tr>\n",
       "    <tr>\n",
       "      <th>Department</th>\n",
       "      <th></th>\n",
       "    </tr>\n",
       "  </thead>\n",
       "  <tbody>\n",
       "    <tr>\n",
       "      <th>DHS</th>\n",
       "      <td>994875000.000000</td>\n",
       "    </tr>\n",
       "    <tr>\n",
       "      <th>DOC</th>\n",
       "      <td>1231500000.000000</td>\n",
       "    </tr>\n",
       "    <tr>\n",
       "      <th>DOD</th>\n",
       "      <td>64685190476.190475</td>\n",
       "    </tr>\n",
       "    <tr>\n",
       "      <th>DOE</th>\n",
       "      <td>11883380952.380953</td>\n",
       "    </tr>\n",
       "    <tr>\n",
       "      <th>DOT</th>\n",
       "      <td>917785714.285714</td>\n",
       "    </tr>\n",
       "    <tr>\n",
       "      <th>EPA</th>\n",
       "      <td>750428571.428571</td>\n",
       "    </tr>\n",
       "    <tr>\n",
       "      <th>HHS</th>\n",
       "      <td>22296761904.761906</td>\n",
       "    </tr>\n",
       "    <tr>\n",
       "      <th>Interior</th>\n",
       "      <td>900571428.571429</td>\n",
       "    </tr>\n",
       "    <tr>\n",
       "      <th>NASA</th>\n",
       "      <td>12140261904.761906</td>\n",
       "    </tr>\n",
       "    <tr>\n",
       "      <th>NIH</th>\n",
       "      <td>21117571428.571430</td>\n",
       "    </tr>\n",
       "    <tr>\n",
       "      <th>NSF</th>\n",
       "      <td>4038809523.809524</td>\n",
       "    </tr>\n",
       "    <tr>\n",
       "      <th>Other</th>\n",
       "      <td>1494761904.761905</td>\n",
       "    </tr>\n",
       "    <tr>\n",
       "      <th>USDA</th>\n",
       "      <td>2380809523.809524</td>\n",
       "    </tr>\n",
       "    <tr>\n",
       "      <th>VA</th>\n",
       "      <td>733880952.380952</td>\n",
       "    </tr>\n",
       "  </tbody>\n",
       "</table>\n",
       "</div>"
      ],
      "text/plain": [
       "                       Budget\n",
       "Department                   \n",
       "DHS          994875000.000000\n",
       "DOC         1231500000.000000\n",
       "DOD        64685190476.190475\n",
       "DOE        11883380952.380953\n",
       "DOT          917785714.285714\n",
       "EPA          750428571.428571\n",
       "HHS        22296761904.761906\n",
       "Interior     900571428.571429\n",
       "NASA       12140261904.761906\n",
       "NIH        21117571428.571430\n",
       "NSF         4038809523.809524\n",
       "Other       1494761904.761905\n",
       "USDA        2380809523.809524\n",
       "VA           733880952.380952"
      ]
     },
     "execution_count": 25,
     "metadata": {},
     "output_type": "execute_result"
    }
   ],
   "source": [
    "pivot_table_avg_spending = pd.pivot_table(df_budget_clean_final,        # creating pivot table based on clean data\n",
    "                                          values=\"Budget\",              # values summarized will be budget\n",
    "                                          index=\"Department\",           # departments will be the index, meaning each budget value has a corresponding department\n",
    "                                          aggfunc=\"mean\")               # aggregation will be mean, meaning budget values will be the mean across all years\n",
    "\n",
    "print(\"Pivot Table: Average Budget per Department\")\n",
    "pivot_table_avg_spending"
   ]
  },
  {
   "cell_type": "markdown",
   "metadata": {},
   "source": [
    "**Output**\n",
    "\n",
    "I will receive a table with two columns. The first column will be \"Department\", while the second will be \"Budget\". The value associated with the variable \"Budget\" for each observation is that department's average budget across all years measured."
   ]
  },
  {
   "cell_type": "markdown",
   "metadata": {},
   "source": [
    "### 3.2: Spending per Year"
   ]
  },
  {
   "cell_type": "markdown",
   "metadata": {},
   "source": [
    "**Input**\n",
    "\n",
    "In 3.2, I will develop a pivot table that shows the total federal government's R&D budget each year. The values will be \"Budget\" as it is associated with \"values\". The values will be the sum across all departments as \"aggfunc\" is \"sum\". It will also be the for each year as  \"index\" is \"year\"."
   ]
  },
  {
   "cell_type": "code",
   "execution_count": null,
   "metadata": {},
   "outputs": [
    {
     "name": "stdout",
     "output_type": "stream",
     "text": [
      "Pivot Table: Spending per Year\n"
     ]
    },
    {
     "data": {
      "text/html": [
       "<div>\n",
       "<style scoped>\n",
       "    .dataframe tbody tr th:only-of-type {\n",
       "        vertical-align: middle;\n",
       "    }\n",
       "\n",
       "    .dataframe tbody tr th {\n",
       "        vertical-align: top;\n",
       "    }\n",
       "\n",
       "    .dataframe thead th {\n",
       "        text-align: right;\n",
       "    }\n",
       "</style>\n",
       "<table border=\"1\" class=\"dataframe\">\n",
       "  <thead>\n",
       "    <tr style=\"text-align: right;\">\n",
       "      <th></th>\n",
       "      <th>Budget</th>\n",
       "    </tr>\n",
       "    <tr>\n",
       "      <th>Department</th>\n",
       "      <th></th>\n",
       "    </tr>\n",
       "  </thead>\n",
       "  <tbody>\n",
       "    <tr>\n",
       "      <th>DHS</th>\n",
       "      <td>994875000.000000</td>\n",
       "    </tr>\n",
       "    <tr>\n",
       "      <th>DOC</th>\n",
       "      <td>1231500000.000000</td>\n",
       "    </tr>\n",
       "    <tr>\n",
       "      <th>DOD</th>\n",
       "      <td>64685190476.190475</td>\n",
       "    </tr>\n",
       "    <tr>\n",
       "      <th>DOE</th>\n",
       "      <td>11883380952.380953</td>\n",
       "    </tr>\n",
       "    <tr>\n",
       "      <th>DOT</th>\n",
       "      <td>917785714.285714</td>\n",
       "    </tr>\n",
       "    <tr>\n",
       "      <th>EPA</th>\n",
       "      <td>750428571.428571</td>\n",
       "    </tr>\n",
       "    <tr>\n",
       "      <th>HHS</th>\n",
       "      <td>22296761904.761906</td>\n",
       "    </tr>\n",
       "    <tr>\n",
       "      <th>Interior</th>\n",
       "      <td>900571428.571429</td>\n",
       "    </tr>\n",
       "    <tr>\n",
       "      <th>NASA</th>\n",
       "      <td>12140261904.761906</td>\n",
       "    </tr>\n",
       "    <tr>\n",
       "      <th>NIH</th>\n",
       "      <td>21117571428.571430</td>\n",
       "    </tr>\n",
       "    <tr>\n",
       "      <th>NSF</th>\n",
       "      <td>4038809523.809524</td>\n",
       "    </tr>\n",
       "    <tr>\n",
       "      <th>Other</th>\n",
       "      <td>1494761904.761905</td>\n",
       "    </tr>\n",
       "    <tr>\n",
       "      <th>USDA</th>\n",
       "      <td>2380809523.809524</td>\n",
       "    </tr>\n",
       "    <tr>\n",
       "      <th>VA</th>\n",
       "      <td>733880952.380952</td>\n",
       "    </tr>\n",
       "  </tbody>\n",
       "</table>\n",
       "</div>"
      ],
      "text/plain": [
       "                       Budget\n",
       "Department                   \n",
       "DHS          994875000.000000\n",
       "DOC         1231500000.000000\n",
       "DOD        64685190476.190475\n",
       "DOE        11883380952.380953\n",
       "DOT          917785714.285714\n",
       "EPA          750428571.428571\n",
       "HHS        22296761904.761906\n",
       "Interior     900571428.571429\n",
       "NASA       12140261904.761906\n",
       "NIH        21117571428.571430\n",
       "NSF         4038809523.809524\n",
       "Other       1494761904.761905\n",
       "USDA        2380809523.809524\n",
       "VA           733880952.380952"
      ]
     },
     "execution_count": 26,
     "metadata": {},
     "output_type": "execute_result"
    }
   ],
   "source": [
    "pivot_table_yearly_spending = pd.pivot_table(df_budget_clean_final,    # creating pivot table based on clean data\n",
    "                                          values=\"Budget\",             # values summarized will be budget\n",
    "                                          index=\"Year\",                # year will be the index, meaning each budget value will be connected to a year\n",
    "                                          aggfunc=\"sum\")               # aggregation will be sum, making the values be the sum of all the departments' budget in a year\n",
    "\n",
    "print(\"Pivot Table: Spending per Year\")\n",
    "pivot_table_avg_spending"
   ]
  },
  {
   "cell_type": "markdown",
   "metadata": {},
   "source": [
    "**Output**"
   ]
  },
  {
   "cell_type": "markdown",
   "metadata": {},
   "source": [
    "I will receive a table with two columns. \"Year\" will be the first column, while \"Budget\" will be the second. The value associated with the variable \"Year\" will be the total budget across all departments for that year."
   ]
  }
 ],
 "metadata": {
  "kernelspec": {
   "display_name": "base",
   "language": "python",
   "name": "python3"
  },
  "language_info": {
   "codemirror_mode": {
    "name": "ipython",
    "version": 3
   },
   "file_extension": ".py",
   "mimetype": "text/x-python",
   "name": "python",
   "nbconvert_exporter": "python",
   "pygments_lexer": "ipython3",
   "version": "3.12.7"
  }
 },
 "nbformat": 4,
 "nbformat_minor": 2
}
